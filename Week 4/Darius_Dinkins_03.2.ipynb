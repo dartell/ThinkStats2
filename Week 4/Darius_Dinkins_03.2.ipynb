from __future__ import print_function

import numpy as np
import sys

import nsfg
import first
import thinkstats2
import thinkplot


def PmfMean(pmf):
    """Computes the mean of a PMF.

    Returns:
        float mean
    """
    mean = 0.0
    for x, p in pmf.d.items():
        mean += p * x
    return mean


def PmfVar(pmf_2, mu=None):
    """Computes the variance of a PMF.

    Args:
        mu: the point around which the variance is computed;
            if omitted, computes the mean

    Returns:
        float variance
    """
    if mu is None:
        mu = pmf_2.Mean()

    var = 0.0
    for x, p in pmf_2.d.items():
        var += p * (x - mu) ** 2
    return var



def main(script):
    """Main function that calls the PmfMean and PmfVar as a test

    """
    
    # Using thinkstat2 to get the PMF
    pmf = thinkstats2.Pmf([1,2,2,3,5])
    
    # Created new variable to run separate test with PmfVar
    pmf_2 = pmf
    
    print(pmf_2)
    
    print(PmfMean(pmf), "<- PMF mean")
    print(PmfVar(pmf_2), "<- PMF Variance")


if __name__ == '__main__':
    main(*sys.argv)